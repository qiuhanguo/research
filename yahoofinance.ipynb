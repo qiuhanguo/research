{
 "cells": [
  {
   "cell_type": "code",
   "execution_count": 6,
   "metadata": {
    "collapsed": false
   },
   "outputs": [
    {
     "name": "stdout",
     "output_type": "stream",
     "text": [
      "Collecting yahoo-finance\n",
      "  Downloading yahoo-finance-1.2.1.zip\n",
      "Requirement already satisfied (use --upgrade to upgrade): pytz in /Users/joanna/anaconda/lib/python3.4/site-packages (from yahoo-finance)\n",
      "Collecting simplejson (from yahoo-finance)\n",
      "  Downloading simplejson-3.8.2.tar.gz (76kB)\n",
      "\u001b[K    100% |████████████████████████████████| 81kB 4.3MB/s \n",
      "\u001b[?25hBuilding wheels for collected packages: yahoo-finance, simplejson\n",
      "  Running setup.py bdist_wheel for yahoo-finance ... \u001b[?25l-\b \b\\\b \bdone\n",
      "\u001b[?25h  Stored in directory: /Users/joanna/Library/Caches/pip/wheels/1d/24/ea/f8d6afbf3e527b3e4c8fbc347695a0aa1be5e3a2dd74053e30\n",
      "  Running setup.py bdist_wheel for simplejson ... \u001b[?25l-\b \b\\\b \b|\b \b/\b \b-\b \bdone\n",
      "\u001b[?25h  Stored in directory: /Users/joanna/Library/Caches/pip/wheels/e4/32/71/60b361b0d05433eb9d1dd3d47619931c08cc4e387dc494ad3c\n",
      "Successfully built yahoo-finance simplejson\n",
      "Installing collected packages: simplejson, yahoo-finance\n",
      "Successfully installed simplejson-3.8.2 yahoo-finance-1.2.1\n",
      "\u001b[33mYou are using pip version 8.1.1, however version 8.1.2 is available.\n",
      "You should consider upgrading via the 'pip install --upgrade pip' command.\u001b[0m\n"
     ]
    }
   ],
   "source": [
    "! pip install yahoo-finance"
   ]
  },
  {
   "cell_type": "code",
   "execution_count": 7,
   "metadata": {
    "collapsed": false
   },
   "outputs": [
    {
     "name": "stdout",
     "output_type": "stream",
     "text": [
      "Collecting pip\n",
      "  Downloading pip-8.1.2-py2.py3-none-any.whl (1.2MB)\n",
      "\u001b[K    100% |████████████████████████████████| 1.2MB 561kB/s \n",
      "\u001b[?25hInstalling collected packages: pip\n",
      "  Found existing installation: pip 8.1.1\n",
      "    Uninstalling pip-8.1.1:\n",
      "      Successfully uninstalled pip-8.1.1\n",
      "Successfully installed pip-8.1.2\n"
     ]
    }
   ],
   "source": [
    "! pip install --upgrade pip"
   ]
  },
  {
   "cell_type": "code",
   "execution_count": 15,
   "metadata": {
    "collapsed": false
   },
   "outputs": [
    {
     "name": "stdout",
     "output_type": "stream",
     "text": [
      "price: 36.66\n",
      "+0.16\n",
      "7784765\n",
      "36.50\n",
      "36.46\n",
      "15135200\n",
      "NMS\n",
      "34.79B\n",
      "30.03\n",
      "245.44M\n",
      "None\n",
      "None\n",
      "-4.76\n",
      "36.94\n",
      "36.43\n",
      "43.78\n",
      "26.15\n",
      "36.86\n",
      "33.47\n",
      "None\n",
      "-317.39\n",
      "7.17\n",
      "1.22\n",
      "2.46\n",
      "2016-05-23 20:00:00 UTC+0000\n",
      "[{'Open': '34.369999', 'Close': '35.830002', 'Symbol': 'YHOO', 'Date': '2014-04-29', 'High': '35.889999', 'Volume': '28736000', 'Low': '34.119999', 'Adj_Close': '35.830002'}, {'Open': '34.669998', 'Close': '33.990002', 'Symbol': 'YHOO', 'Date': '2014-04-28', 'High': '35.00', 'Volume': '31019200', 'Low': '33.650002', 'Adj_Close': '33.990002'}, {'Open': '35.029999', 'Close': '34.48', 'Symbol': 'YHOO', 'Date': '2014-04-25', 'High': '35.099998', 'Volume': '19401600', 'Low': '34.290001', 'Adj_Close': '34.48'}]\n",
      "{'CompanyName': None, 'symbol': 'YHOO', 'end': '2016-05-24', 'start': '1996-04-12'}\n"
     ]
    }
   ],
   "source": [
    "from yahoo_finance import Share\n",
    "yahoo = Share('YHOO')\n",
    "print ('price:', yahoo.get_price())\n",
    "print (yahoo.get_change())\n",
    "print (yahoo.get_volume())\n",
    "print (yahoo.get_prev_close())\n",
    "print (yahoo.get_open())\n",
    "print (yahoo.get_avg_daily_volume())\n",
    "print (yahoo.get_stock_exchange())\n",
    "print (yahoo.get_market_cap())\n",
    "print (yahoo.get_book_value())\n",
    "print (yahoo.get_ebitda())\n",
    "print (yahoo.get_dividend_share())\n",
    "print (yahoo.get_dividend_yield())\n",
    "print (yahoo.get_earnings_share())\n",
    "print (yahoo.get_days_high())\n",
    "print (yahoo.get_days_low())\n",
    "print (yahoo.get_year_high())\n",
    "print (yahoo.get_year_low())\n",
    "print (yahoo.get_50day_moving_avg())\n",
    "print (yahoo.get_200day_moving_avg())\n",
    "print (yahoo.get_price_earnings_ratio())\n",
    "print (yahoo.get_price_earnings_growth_ratio())\n",
    "print (yahoo.get_price_sales())\n",
    "print (yahoo.get_price_book())\n",
    "print (yahoo.get_short_ratio())\n",
    "print (yahoo.get_trade_datetime())\n",
    "print (yahoo.get_historical('2014-04-25', '2014-04-29'))\n",
    "print (yahoo.get_info())"
   ]
  },
  {
   "cell_type": "code",
   "execution_count": 20,
   "metadata": {
    "collapsed": false
   },
   "outputs": [
    {
     "name": "stdout",
     "output_type": "stream",
     "text": [
      "  Ticker  Price BookValue Ebitda      Volume   MVolume DivShare DivYield  \\\n",
      "0    bac  14.68   23.12\\n   0.00  96183749\\n  99855104     0.20     1.38   \n",
      "1    jpm  64.54   61.29\\n   0.00  13839390\\n  15852200     1.76     2.77   \n",
      "2    wfc  49.20   34.62\\n   0.00  16597709\\n  17895400     1.52     3.12   \n",
      "3      c  45.86   71.47\\n   0.00  18976539\\n  20546100     0.20     0.44   \n",
      "\n",
      "  EarnShare EarnRatio      ...      TickerTrend 1yrTargetPrice    MoreInfo  \\\n",
      "0      1.27     11.54      ...            N/A\\n        17.35\\n  96183749\\n   \n",
      "1      5.90     10.94      ...            N/A\\n        70.57\\n  13839390\\n   \n",
      "2      4.07     12.09      ...            N/A\\n        55.00\\n  16597709\\n   \n",
      "3      5.00      9.17      ...            N/A\\n        56.11\\n  18976539\\n   \n",
      "\n",
      "  HoldingsValue HoldingsValue(Realtime)        52weekRange DaysValueChange  \\\n",
      "0         N/A\\n                   N/A\\n  \"10.99 - 18.48\"\\n           N/A\\n   \n",
      "1         N/A\\n                   N/A\\n  \"50.07 - 70.61\"\\n           N/A\\n   \n",
      "2         N/A\\n                   N/A\\n  \"44.50 - 58.77\"\\n           N/A\\n   \n",
      "3         N/A\\n                   N/A\\n  \"34.52 - 60.95\"\\n           N/A\\n   \n",
      "\n",
      "  DaysValueChange(Realtime) StockExchange DividendYield  \n",
      "0                     N/A\\n       \"NYQ\"\\n        1.38\\n  \n",
      "1                     N/A\\n       \"NYQ\"\\n        2.77\\n  \n",
      "2                     N/A\\n       \"NYQ\"\\n        3.12\\n  \n",
      "3                     N/A\\n       \"NYQ\"\\n        0.44\\n  \n",
      "\n",
      "[4 rows x 99 columns]\n"
     ]
    }
   ],
   "source": [
    "import pandas as pd\n",
    "import urllib\n",
    "import re\n",
    "from yahoo_finance import Share\n",
    "#import pandas.io.data as iod\n",
    "#from pandas_datareader import data\n",
    "#Also import numpy and matplotlib. Because ....\n",
    "#%matplotlib inline\n",
    "#import numpy as np\n",
    "#import matplotlib.pyplot as plt\n",
    "#import matplotlib as mp\n",
    "#import datetime as dt\n",
    "\n",
    "#read in the csv for the list of ticker names\n",
    "ticker = pd.read_csv('Ticker.csv')\n",
    "variable = pd.read_csv('Variable.csv')\n",
    "#print (ticker)\n",
    "#for every name, extract all the available finance data from yahoo finance\n",
    "i = 0\n",
    "length = len(ticker)\n",
    "while i < length:\n",
    "    tcr = ticker.at[i,'Ticker']\n",
    "    name = Share(tcr)\n",
    "    ticker.at[i,'Price'] = name.get_price()\n",
    "    ticker.at[i,'BookValue'] = name.get_book_value()\n",
    "    ticker.at[i,'Ebitda'] = name.get_ebitda()\n",
    "    ticker.at[i,'Volume'] = name.get_volume()\n",
    "    ticker.at[i,'MVolume'] = name.get_avg_daily_volume()\n",
    "    ticker.at[i,'DivShare'] = name.get_dividend_share()\n",
    "    ticker.at[i,'DivYield'] = name.get_dividend_yield()\n",
    "    ticker.at[i,'EarnShare'] = name.get_earnings_share()\n",
    "    ticker.at[i,'EarnRatio'] = name.get_price_earnings_ratio()\n",
    "    ticker.at[i,'EarnGRatio'] = name.get_price_earnings_growth_ratio()\n",
    "    ticker.at[i,'PriceSales'] = name.get_price_sales()\n",
    "    ticker.at[i,'PriceBook'] = name.get_price_book()\n",
    "    ticker.at[i,'ShortRatio'] = name.get_short_ratio()\n",
    "    \n",
    "    \n",
    "    url = \"http://finance.yahoo.com/q/ks?s=\" + tcr + \"+Key+Statistics\"\n",
    "    htmlfile = urllib.request.urlopen(url)\n",
    "    htmltext = htmlfile.read()\n",
    "    htmltext = htmltext.decode('utf-8')\n",
    "    \n",
    "    regex = '<span id=\"yfs_j10_' + tcr + '\">(.+?)</span>'\n",
    "    pattern = re.compile(regex)\n",
    "    MarketCap = re.findall(pattern,htmltext)\n",
    "    ticker.at[i,'MarketCap'] = MarketCap[0]\n",
    "    \n",
    "    url = \"http://finance.yahoo.com/q/is?s=\" + tcr + \"+Income+Statement&annual\"\n",
    "    htmlfile = urllib.request.urlopen(url)\n",
    "    htmltext = htmlfile.read()\n",
    "    htmltext = htmltext.decode('utf-8')\n",
    "    \n",
    "    end=htmltext.find('&nbsp;&nbsp;')\n",
    "    TotalRevenue = htmltext[end-12:end]\n",
    "    ticker.at[i,'TotalRevenue'] = TotalRevenue\n",
    "      \n",
    "    #http://finance.yahoo.com/d/quotes.csv?s=AAPL+GOOG+MSFT&f=nab\n",
    "    j = 0\n",
    "    lengthj = len(variable)\n",
    "    while j < lengthj:\n",
    "        sym = variable.at[j,'Sym']\n",
    "        var = variable.at[j,'Var']\n",
    "        url = \"http://finance.yahoo.com/d/quotes.csv?s=\" + tcr + \"&f=\" + sym\n",
    "        htmlfile = urllib.request.urlopen(url)\n",
    "        htmltext = htmlfile.read()\n",
    "        htmltext = htmltext.decode('utf-8')\n",
    "        ticker.at[i,var] = htmltext\n",
    "        j+=1\n",
    "    i+=1\n",
    "    \n",
    "#format the data to a new csv file\n",
    "print(ticker)\n",
    "#print(variable)\n",
    "ticker.to_csv('out.csv')"
   ]
  },
  {
   "cell_type": "code",
   "execution_count": 2,
   "metadata": {
    "collapsed": false
   },
   "outputs": [
    {
     "name": "stdout",
     "output_type": "stream",
     "text": [
      "bac\n"
     ]
    },
    {
     "data": {
      "text/html": [
       "<div>\n",
       "<table border=\"1\" class=\"dataframe\">\n",
       "  <thead>\n",
       "    <tr style=\"text-align: right;\">\n",
       "      <th></th>\n",
       "      <th>Ticker</th>\n",
       "      <th>A</th>\n",
       "      <th>B</th>\n",
       "    </tr>\n",
       "  </thead>\n",
       "  <tbody>\n",
       "    <tr>\n",
       "      <th>0</th>\n",
       "      <td>bac</td>\n",
       "      <td>Hello</td>\n",
       "      <td>13</td>\n",
       "    </tr>\n",
       "    <tr>\n",
       "      <th>1</th>\n",
       "      <td>jpm</td>\n",
       "      <td>14</td>\n",
       "      <td>NaN</td>\n",
       "    </tr>\n",
       "    <tr>\n",
       "      <th>2</th>\n",
       "      <td>wfc</td>\n",
       "      <td>NaN</td>\n",
       "      <td>NaN</td>\n",
       "    </tr>\n",
       "    <tr>\n",
       "      <th>3</th>\n",
       "      <td>c</td>\n",
       "      <td>NaN</td>\n",
       "      <td>NaN</td>\n",
       "    </tr>\n",
       "  </tbody>\n",
       "</table>\n",
       "</div>"
      ],
      "text/plain": [
       "  Ticker      A   B\n",
       "0    bac  Hello  13\n",
       "1    jpm     14 NaN\n",
       "2    wfc    NaN NaN\n",
       "3      c    NaN NaN"
      ]
     },
     "execution_count": 2,
     "metadata": {},
     "output_type": "execute_result"
    }
   ],
   "source": [
    "ticker = pd.read_csv('Ticker.csv')\n",
    "a = ticker.at[0,'Ticker']\n",
    "#df = pd.DataFrame(index = [a,a], columns=['A','B','C'])\n",
    "#df\n",
    "#ticker\n",
    "\n",
    "\n",
    "#c = ticker.T\n",
    "#b = c.values.tolist()\n",
    "print(a)\n",
    "#bb = pd.DataFrame(index = b, columns=['A','B','C'])\n",
    "#bb\n",
    "#bb.at[b[0],'A'] = 'Hello'\n",
    "cc = pd.DataFrame(index = list(range(len(ticker))), columns=['Ticker'])\n",
    "\n",
    "ticker\n",
    "ticker.at[0,'A'] = 'Hello'\n",
    "ticker.at[0,'B'] = 13\n",
    "ticker.at[1,'A'] = 14\n",
    "ticker"
   ]
  },
  {
   "cell_type": "code",
   "execution_count": 36,
   "metadata": {
    "collapsed": false
   },
   "outputs": [
    {
     "name": "stdout",
     "output_type": "stream",
     "text": [
      "Pulled AMD\n",
      "...\n",
      "Pulled BAC\n",
      "...\n",
      "Pulled MSFT\n",
      "...\n",
      "Pulled TXN\n",
      "...\n",
      "Pulled GOOG\n",
      "...\n"
     ]
    }
   ],
   "source": [
    "import urllib.request\n",
    "import time\n",
    "\n",
    "stockstoPull = 'AMD', 'BAC', 'MSFT', 'TXN', 'GOOG'\n",
    "\n",
    "def pullData(stock):\n",
    "    fileLine = stock + '.txt'\n",
    "    urltovisit = 'http://chartapi.finance.yahoo.com/instrument/1.0/'+stock+'/chartdata;type=quote;range=1y/csv'\n",
    "    with urllib.request.urlopen(urltovisit) as f:\n",
    "        sourceCode = f.read().decode('utf-8')\n",
    "    splitSource = sourceCode.split('\\n')\n",
    "\n",
    "    for eachLine in splitSource:\n",
    "        splitLine = eachLine.split(',') # <---(here ',' instead of '.')\n",
    "        if len(splitLine) == 6: # <----( here, 6 instead of 5 )\n",
    "            if 'values' not in eachLine:\n",
    "                saveFile = open(fileLine,'a')\n",
    "                linetoWrite = eachLine+'\\n'\n",
    "                saveFile.write(linetoWrite)\n",
    "\n",
    "    print('Pulled', stock)\n",
    "    print('...')\n",
    "    time.sleep(.5)\n",
    "\n",
    "if __name__==\"__main__\":\n",
    "    for eachStock in stockstoPull:     \n",
    "        pullData(eachStock)"
   ]
  },
  {
   "cell_type": "code",
   "execution_count": 10,
   "metadata": {
    "collapsed": false
   },
   "outputs": [
    {
     "data": {
      "text/plain": [
       "'Ask'"
      ]
     },
     "execution_count": 10,
     "metadata": {},
     "output_type": "execute_result"
    }
   ],
   "source": [
    "variable.at[0,'Var']"
   ]
  },
  {
   "cell_type": "code",
   "execution_count": null,
   "metadata": {
    "collapsed": true
   },
   "outputs": [],
   "source": [
    "    j = 0\n",
    "    lengthj = len(variable)\n",
    "    while j < lengthj:\n",
    "        sym = variable.at[j,'Sym']\n",
    "        var = variable.at[j,'Var']\n",
    "        url = \"http://finance.yahoo.com/d/quotes.csv?s=\" + tcr + \"&f=\" + sym\n",
    "        htmlfile = urllib.request.urlopen(url)\n",
    "        htmltext = htmlfile.read()\n",
    "        htmltext = htmltext.decode('utf-8')\n",
    "        ticker.at[i,var] = htmltext\n",
    "        j+=1"
   ]
  }
 ],
 "metadata": {
  "kernelspec": {
   "display_name": "Python 3",
   "language": "python",
   "name": "python3"
  },
  "language_info": {
   "codemirror_mode": {
    "name": "ipython",
    "version": 3
   },
   "file_extension": ".py",
   "mimetype": "text/x-python",
   "name": "python",
   "nbconvert_exporter": "python",
   "pygments_lexer": "ipython3",
   "version": "3.4.4"
  }
 },
 "nbformat": 4,
 "nbformat_minor": 0
}
